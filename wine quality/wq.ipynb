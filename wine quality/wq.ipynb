{
  "nbformat": 4,
  "nbformat_minor": 0,
  "metadata": {
    "colab": {
      "provenance": []
    },
    "kernelspec": {
      "name": "python3",
      "display_name": "Python 3"
    },
    "language_info": {
      "name": "python"
    }
  },
  "cells": [
    {
      "cell_type": "code",
      "execution_count": null,
      "metadata": {
        "colab": {
          "base_uri": "https://localhost:8080/"
        },
        "id": "zas5nECUHTMC",
        "outputId": "3df17a6f-2289-4a02-fa7b-7f75c68c7cc0"
      },
      "outputs": [
        {
          "output_type": "stream",
          "name": "stdout",
          "text": [
            "Accuracy: 0.7066666666666667\n"
          ]
        }
      ],
      "source": [
        "import pandas as pd\n",
        "import numpy as np\n",
        "from sklearn.linear_model import LogisticRegression\n",
        "import pickle\n",
        "from sklearn.model_selection import train_test_split\n",
        "from sklearn.preprocessing import LabelEncoder\n",
        "from sklearn.metrics import accuracy_score\n",
        "\n",
        "# Load the dataset from CSV\n",
        "df = pd.read_csv('/content/winequality-red.csv')\n",
        "\n",
        "# Define \"good\" and \"bad\" quality\n",
        "threshold = 6  # Define the quality threshold\n",
        "\n",
        "# Define the target variable\n",
        "df['quality_label'] = df['quality'].apply(lambda x: 'good' if x >= threshold else 'bad')\n",
        "\n",
        "# Filter the data based on conditions\n",
        "filtered_data = df[(df['pH'] < 5) & (df['alcohol'].between(7, 10))]\n",
        "\n",
        "# Define features and target\n",
        "X = filtered_data[['pH', 'alcohol']]\n",
        "y = filtered_data['quality_label']\n",
        "\n",
        "# Encode the target variable\n",
        "label_encoder = LabelEncoder()\n",
        "y = label_encoder.fit_transform(y)\n",
        "\n",
        "X_train, X_test, y_train, y_test = train_test_split(X, y, test_size=0.2, random_state=42)\n",
        "\n",
        "# Create and fit the logistic regression model\n",
        "model = LogisticRegression()\n",
        "model.fit(X_train, y_train)\n",
        "\n",
        "y_pred = model.predict(X_test)\n",
        "\n",
        "accuracy = accuracy_score(y_test, y_pred)\n",
        "print(f\"Accuracy: {accuracy}\")\n",
        "\n",
        "# Save the model and label encoder using pickle\n",
        "with open('model.pkl', 'wb') as f:\n",
        "    pickle.dump(model, f)\n",
        "\n",
        "with open('label_encoder.pkl', 'wb') as f:\n",
        "    pickle.dump(label_encoder, f)\n",
        "\n",
        "# Load the model and label encoder from pickle\n",
        "with open('model.pkl', 'rb') as f:\n",
        "    loaded_model = pickle.load(f)\n",
        "\n",
        "with open('label_encoder.pkl', 'rb') as f:\n",
        "    loaded_label_encoder = pickle.load(f)\n",
        "\n",
        "# Take user input for wine quality features\n",
        "user_pH = float(input(\"Enter pH value of the wine: \"))\n",
        "user_alcohol = float(input(\"Enter alcohol content of the wine: \"))\n",
        "\n",
        "# Classify wine quality based on conditions\n",
        "if user_pH < 5 and 7 <= user_alcohol <= 10:\n",
        "    predicted_quality = 'good'\n",
        "else:\n",
        "    predicted_quality = 'bad'\n",
        "\n",
        "# Print the predicted wine quality\n",
        "print(\"Predicted Wine Quality:\", predicted_quality)"
      ]
    }
  ]
}